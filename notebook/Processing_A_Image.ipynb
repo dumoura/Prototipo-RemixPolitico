{
 "cells": [
  {
   "cell_type": "code",
   "execution_count": 2,
   "metadata": {},
   "outputs": [],
   "source": [
    "# Bibliotecas usadas\n",
    "import os\n",
    "import pandas as pd\n",
    "import numpy as np\n",
    "from matplotlib import pyplot as plt\n",
    "\n",
    "import sys\n",
    "import datetime\n",
    "import json\n",
    "import glob\n",
    "\n",
    "from moviepy.editor import *\n",
    "from PIL import Image\n",
    "from natsort import os_sorted"
   ]
  },
  {
   "cell_type": "code",
   "execution_count": 3,
   "metadata": {},
   "outputs": [
    {
     "name": "stdout",
     "output_type": "stream",
     "text": [
      "/Users/dumoura/Dev/PDev/Mashup_Vid_Processing/notebook\n"
     ]
    }
   ],
   "source": [
    "# Diretórios e locais de trabalho\n",
    "os.chdir(\"/Users/dumoura/Dev/PDev/Mashup_Vid_Processing/notebook/\")\n",
    "cwd = os.getcwd()\n",
    "print(cwd)"
   ]
  },
  {
   "cell_type": "code",
   "execution_count": 4,
   "metadata": {},
   "outputs": [],
   "source": [
    "#Base_dir\n",
    "BASE_DIR = os.path.dirname(cwd) # base de trabalho\n",
    "DATA_DIR = os.path.join(BASE_DIR, \"data\") # dados gerais levantados durante projeto\n",
    "META_DIR = os.path.join(BASE_DIR, \"metadados\") #metadados levantados durante projeto\n",
    "SAMPLE_DIR = os.path.join(DATA_DIR, \"sample\") # material em processo - pode ser apagado ao final, caso julgue necessário\n",
    "INPUTS_DIR = os.path.join(SAMPLE_DIR, \"inputs\") # local de trabalho para processamento de dados de midia \n",
    "OUTPUTS_DIR = os.path.join(SAMPLE_DIR, \"outputs\") # local de trabalho para processamento de dados de midia \n",
    "\n",
    "#MASHUPS\n",
    "VIDS_DIR = os.path.join(DATA_DIR, \"vids\") # dados gerais levantados durante projeto\n",
    "\n",
    "#Inputs\n",
    "VID_DIR = os.path.join(INPUTS_DIR, \"vid_input\") # local de trabalho para processamento de dados de midia \n",
    "AUDIO_DIR = os.path.join(INPUTS_DIR, \"audio_input\") # local de trabalho para processamento de dados de midia # # Criar diretórios e locais de trabalho\n",
    "LGG_DIR = os.path.join(INPUTS_DIR, \"lgg_input\") # local de trabalho para processamento de dados de midia \n",
    "\n",
    "#Outputs\n",
    "FRAME_DIR = os.path.join(OUTPUTS_DIR, \"thumbnails\") # local de trabalho para processamento de dados de midia \n",
    "SONG_DIR = os.path.join(OUTPUTS_DIR, \"songs\") # local de trabalho para processamento de dados de midia # # Criar diretórios e locais de trabalho\n",
    "LYRIC_DIR = os.path.join(OUTPUTS_DIR, \"lyrics\") # local de trabalho para processamento de dados de midia \n",
    "\n",
    "#Make_dirs\n",
    "os.makedirs(DATA_DIR, exist_ok=True)\n",
    "os.makedirs(META_DIR, exist_ok=True)\n",
    "os.makedirs(SAMPLE_DIR, exist_ok=True)\n",
    "os.makedirs(INPUTS_DIR, exist_ok=True)\n",
    "os.makedirs(OUTPUTS_DIR, exist_ok=True)\n",
    "\n",
    "#Make_vids\n",
    "os.makedirs(VIDS_DIR, exist_ok=True)\n",
    "\n",
    "##Make_dirs inputs\n",
    "os.makedirs(VID_DIR , exist_ok=True)\n",
    "os.makedirs(AUDIO_DIR, exist_ok=True)\n",
    "os.makedirs(LGG_DIR, exist_ok=True)\n",
    "\n",
    "##Make_dirs outputs\n",
    "os.makedirs(FRAME_DIR, exist_ok=True)\n",
    "os.makedirs(SONG_DIR, exist_ok=True)\n",
    "os.makedirs(LYRIC_DIR, exist_ok=True)"
   ]
  },
  {
   "cell_type": "code",
   "execution_count": null,
   "metadata": {},
   "outputs": [],
   "source": [
    "# Verificar se os diretórios e locais de trabalho foram criados corretamente\n",
    "#os.listdir(BASE_DIR)"
   ]
  },
  {
   "cell_type": "code",
   "execution_count": null,
   "metadata": {},
   "outputs": [],
   "source": [
    "# Definir contexto -período- de trabalho \n",
    "\n",
    "now = datetime.datetime.now()\n",
    "year = datetime.datetime.now().year\n",
    "day = datetime.datetime.now().day\n",
    "month = datetime.datetime.now().month\n",
    "\n",
    "# Usar contexto para nomear documentos\n",
    "\n",
    "context = f\"_{month}-{day}-{year}\""
   ]
  },
  {
   "cell_type": "code",
   "execution_count": null,
   "metadata": {},
   "outputs": [],
   "source": [
    "#print(context) \"\"\"retirar comentário para ver resultado\"\"\""
   ]
  },
  {
   "cell_type": "markdown",
   "metadata": {},
   "source": [
    "## Images_to_work"
   ]
  },
  {
   "cell_type": "code",
   "execution_count": null,
   "metadata": {},
   "outputs": [],
   "source": [
    "img_folders = os.listdir(FRAME_DIR)\n",
    "print(img_folders)\n",
    "\n",
    "folder = \"B_WhiteStripes_Nirvana_DJBootOXs_Panicversion\" #folder to parse"
   ]
  },
  {
   "cell_type": "code",
   "execution_count": null,
   "metadata": {},
   "outputs": [],
   "source": [
    "img_dir = f'{FRAME_DIR}/{folder}'\n",
    "img_root = os.path.join(img_dir, \"*.jpg\")\n",
    "img_list = glob.glob(img_root)\n",
    "\n",
    "len(img_list)"
   ]
  },
  {
   "cell_type": "code",
   "execution_count": null,
   "metadata": {},
   "outputs": [],
   "source": [
    "# Bibliotecas usadas\n",
    "\n",
    "from skimage import measure\n",
    "from skimage.filters import threshold_otsu\n",
    "from skimage import color\n",
    "from skimage import data\n",
    "from skimage.feature import corner_harris\n",
    "from skimage.feature import canny\n",
    "\n",
    "import matplotlib.pyplot as plt\n",
    "import matplotlib.image as mpimg\n",
    "\n"
   ]
  },
  {
   "cell_type": "markdown",
   "metadata": {},
   "source": [
    "## Basics"
   ]
  },
  {
   "cell_type": "code",
   "execution_count": null,
   "metadata": {},
   "outputs": [],
   "source": [
    "frame = mpimg.imread(img_list[200])"
   ]
  },
  {
   "cell_type": "code",
   "execution_count": null,
   "metadata": {},
   "outputs": [],
   "source": [
    "print('Type:', type(frame))\n",
    "print('Dtype:', frame.dtype)\n",
    "print('Shape:', frame.shape)\n",
    "print('Values min/max:', frame.min(), frame.max())\n",
    "print('Values mean:', frame.mean())\n",
    "\n",
    "plt.imshow(frame, cmap='gray');"
   ]
  },
  {
   "cell_type": "code",
   "execution_count": null,
   "metadata": {},
   "outputs": [],
   "source": [
    "\n",
    "cinza = color.rgb2gray(frame)\n",
    "\n",
    "print('Type:', type(cinza))\n",
    "print('Dtype:', cinza.dtype)\n",
    "print('Shape:', cinza.shape)\n",
    "print('Values min/max:', cinza.min(), cinza.max())\n",
    "print('Values mean:', cinza.mean())\n",
    "\n",
    "plt.imshow(cinza, cmap='gray');"
   ]
  },
  {
   "cell_type": "markdown",
   "metadata": {},
   "source": [
    "### Data types and image values"
   ]
  },
  {
   "cell_type": "code",
   "execution_count": null,
   "metadata": {},
   "outputs": [],
   "source": [
    "from skimage import img_as_float, img_as_ubyte"
   ]
  },
  {
   "cell_type": "code",
   "execution_count": null,
   "metadata": {},
   "outputs": [],
   "source": [
    "image_ubyte = img_as_ubyte(frame)\n",
    "image_float = img_as_float(frame)"
   ]
  },
  {
   "cell_type": "code",
   "execution_count": null,
   "metadata": {},
   "outputs": [],
   "source": [
    "print(\"Type:\", image_ubyte.dtype, image_ubyte.min(), image_ubyte.max())\n",
    "print(\"Type:\", image_float.dtype, image_float.min(), image_float.max())"
   ]
  },
  {
   "cell_type": "code",
   "execution_count": null,
   "metadata": {},
   "outputs": [],
   "source": [
    "#color channels - RGB\n",
    "\n",
    "r = image_float[...,0] #same as [:,:, 0]\n",
    "g = image_float[...,1] #same as [:,:, 1]\n",
    "b = image_float[...,2] #same as [:,:, 2]\n",
    "color = frame"
   ]
  },
  {
   "cell_type": "code",
   "execution_count": null,
   "metadata": {},
   "outputs": [],
   "source": [
    "f, axes = plt.subplots(1,4, figsize=(16,5))\n",
    "\n",
    "for ax in axes:\n",
    "    ax.axis('off')\n",
    "    \n",
    "(ax_r, ax_g, ax_b, ax_color) = axes\n",
    "\n",
    "ax_r.imshow(r, cmap='gray')\n",
    "ax_r.set_title('red channel')\n",
    "\n",
    "ax_g.imshow(g, cmap='gray')\n",
    "ax_g.set_title('green channel')\n",
    "\n",
    "ax_b.imshow(b, cmap='gray')\n",
    "ax_b.set_title('blue channel')\n",
    "\n",
    "ax_color.imshow(np.stack([r,g,b], axis =2))\n",
    "ax_color.set_title('all channels');"
   ]
  },
  {
   "cell_type": "code",
   "execution_count": null,
   "metadata": {},
   "outputs": [],
   "source": [
    "plt.hist(r.ravel(), bins=256)\n",
    "plt.title(\"red_hist\")\n",
    "plt.show()"
   ]
  },
  {
   "cell_type": "markdown",
   "metadata": {},
   "source": [
    "## Threshold"
   ]
  },
  {
   "cell_type": "code",
   "execution_count": null,
   "metadata": {},
   "outputs": [],
   "source": [
    "from skimage.filters import try_all_threshold"
   ]
  },
  {
   "cell_type": "code",
   "execution_count": null,
   "metadata": {},
   "outputs": [],
   "source": [
    "fig, ax = try_all_threshold(cinza, verbose=False)"
   ]
  },
  {
   "cell_type": "code",
   "execution_count": null,
   "metadata": {},
   "outputs": [],
   "source": [
    "from skimage.filters import threshold_otsu"
   ]
  },
  {
   "cell_type": "code",
   "execution_count": null,
   "metadata": {},
   "outputs": [],
   "source": [
    "tresh_otsu = threshold_otsu(cinza)\n",
    "binary = cinza > tresh_otsu\n",
    "plt.imshow(binary, cmap=\"gray\")"
   ]
  },
  {
   "cell_type": "code",
   "execution_count": null,
   "metadata": {},
   "outputs": [],
   "source": [
    "binary2 = cinza <= tresh_otsu\n",
    "plt.imshow(binary2, cmap=\"gray\")"
   ]
  },
  {
   "cell_type": "code",
   "execution_count": null,
   "metadata": {},
   "outputs": [],
   "source": []
  },
  {
   "cell_type": "markdown",
   "metadata": {},
   "source": [
    "### Edge detection "
   ]
  },
  {
   "cell_type": "code",
   "execution_count": null,
   "metadata": {},
   "outputs": [],
   "source": [
    "#posso aplicar na imagem com edges tbm\n",
    "frame_edg_corner = canny(cinza)\n",
    "plt.imshow(frame_edg_corner, cmap='gray')\n"
   ]
  },
  {
   "cell_type": "code",
   "execution_count": null,
   "metadata": {},
   "outputs": [],
   "source": [
    "#Edge detection SOBEL\n",
    "\n",
    "from skimage.filters import sobel\n",
    "import matplotlib.pyplot as plt"
   ]
  },
  {
   "cell_type": "code",
   "execution_count": null,
   "metadata": {},
   "outputs": [],
   "source": [
    "# apllay edge detection - sobel \n",
    "frame_edgeDetection = sobel(cinza) \n",
    "plt.imshow(frame_edgeDetection, cmap=\"gray\")"
   ]
  },
  {
   "cell_type": "markdown",
   "metadata": {},
   "source": [
    "### Corners were detection"
   ]
  },
  {
   "cell_type": "code",
   "execution_count": null,
   "metadata": {},
   "outputs": [],
   "source": [
    "#Find coordinates of the corners\n",
    "\n",
    "from skimage.feature import corner_peaks\n",
    "\n",
    "coords = corner_peaks(corner_harris(cinza), min_distance=5, indices=True) #corner_harris, corner_foerstner(\n",
    "print('Total of', len(coords), 'corners were detected')\n",
    "#print(coords)\n"
   ]
  },
  {
   "cell_type": "code",
   "execution_count": null,
   "metadata": {},
   "outputs": [],
   "source": []
  },
  {
   "cell_type": "code",
   "execution_count": null,
   "metadata": {},
   "outputs": [],
   "source": [
    "#testar com o outro modelo\n",
    "coords_2 = corner_peaks(corner_harris(cinza), min_distance=20)\n",
    "print('Total of', len(coords_2), 'corners were detected')\n"
   ]
  },
  {
   "cell_type": "code",
   "execution_count": null,
   "metadata": {},
   "outputs": [],
   "source": [
    "#function to show image with contours\n",
    "\n",
    "def show_image_with_corners (image, coords, title='Corners detected'):\n",
    "    plt.imshow(image, interpolation='nearest', cmap='gray')\n",
    "    plt.title(title)\n",
    "    plt.plot(coords[:,1], coords[:,0], '+r', markersize =10)\n",
    "    plt.axis( 'off')\n",
    "    plt.show()\n",
    "\n",
    "show_image_with_corners(frame, coords, 'Corners detected1')\n",
    "show_image_with_corners(frame, coords_2, 'Corners detected2')"
   ]
  },
  {
   "cell_type": "markdown",
   "metadata": {},
   "source": [
    "### Image colection"
   ]
  },
  {
   "cell_type": "code",
   "execution_count": 12,
   "metadata": {},
   "outputs": [],
   "source": [
    "from skimage import io"
   ]
  },
  {
   "cell_type": "code",
   "execution_count": null,
   "metadata": {},
   "outputs": [],
   "source": [
    "ic = io.ImageCollection(img_list[200:215])\n",
    "print(\"Type:\", type(ic))\n",
    "len(ic)"
   ]
  },
  {
   "cell_type": "code",
   "execution_count": null,
   "metadata": {},
   "outputs": [],
   "source": [
    "f, axes = plt.subplots(ncols= 5,  nrows=len(ic)//4, figsize=(25, 10))\n",
    "\n",
    "axes = axes.ravel()\n",
    "\n",
    "for ax in axes:\n",
    "    ax.axis('off')\n",
    "    \n",
    "for i, image in enumerate(ic):\n",
    "    axes[i].imshow(image, cmap = 'gray')\n",
    "    #axes[i].set_title(os.path.basename(ic.files[i]))\n",
    "    \n",
    "plt.tight_layout()"
   ]
  },
  {
   "cell_type": "code",
   "execution_count": null,
   "metadata": {},
   "outputs": [],
   "source": [
    "for i, image in enumerate(ic):\n",
    "    print(\"Type:\", image.mean())"
   ]
  },
  {
   "cell_type": "code",
   "execution_count": null,
   "metadata": {},
   "outputs": [],
   "source": [
    "from skimage import color    "
   ]
  },
  {
   "cell_type": "code",
   "execution_count": null,
   "metadata": {
    "scrolled": true
   },
   "outputs": [],
   "source": [
    "ic = io.ImageCollection(img_list[200:215])\n",
    "\n",
    "def show_image_with_corners (image, coords, title='Corners detected'):\n",
    "    plt.imshow(image, interpolation='nearest', cmap='gray')\n",
    "    plt.title(title)\n",
    "    plt.plot(coords[:,1], coords[:,0], '+r', markersize =10)\n",
    "    plt.axis( 'off')\n",
    "    plt.show()\n",
    "   \n",
    "for i, image in enumerate(ic):\n",
    "    image_gray = color.rgb2gray(image)\n",
    "    coords = corner_peaks(corner_harris(image_gray), min_distance=20, indices=True) #corner_harris, corner_foerstner(\n",
    "    print(\"Image\", i,\"-\", 'Total of', len(coords), 'corners were detected')\n",
    "    show_image_with_corners(image_gray, coords, 'Corners detected1')"
   ]
  },
  {
   "cell_type": "code",
   "execution_count": null,
   "metadata": {},
   "outputs": [],
   "source": [
    "def show_image_treshold(image, title='Image Treshold'):\n",
    "    plt.imshow(image, cmap='gray')\n",
    "#     plt.plot(coords[:,1], coords[:,0], '+r', markersize =10)\n",
    "    plt.title(title)\n",
    "    plt.axis( 'off')\n",
    "    plt.show()\n",
    "    \n",
    "for i, image in enumerate(ic):\n",
    "    image_gray = color.rgb2gray(image)\n",
    "    tresh_otsu = threshold_otsu(image_gray)\n",
    "    binary = image_gray > tresh_otsu # figura > ou fundo <= \n",
    "    show_image_treshold(binary, title='Image Treshold')"
   ]
  },
  {
   "cell_type": "markdown",
   "metadata": {},
   "source": [
    "### Magick identify"
   ]
  },
  {
   "cell_type": "code",
   "execution_count": 10,
   "metadata": {},
   "outputs": [],
   "source": [
    "# Import ImageIO and NumPy\n",
    "import imageio\n",
    "import numpy as np"
   ]
  },
  {
   "cell_type": "code",
   "execution_count": 5,
   "metadata": {},
   "outputs": [
    {
     "name": "stdout",
     "output_type": "stream",
     "text": [
      "/Users/dumoura/Dev/PDev/Mashup_Vid_Processing/data/sample/outputs/thumbnails/Train_WhiteStripes_Nirvana_DJBootOXs_Panicversion\n"
     ]
    }
   ],
   "source": [
    "img_folders = os.listdir(FRAME_DIR)\n",
    "train_folder = f\"{FRAME_DIR}/Train_WhiteStripes_Nirvana_DJBootOXs_Panicversion\" #folder to parse\n",
    "\n",
    "print(train_folder)"
   ]
  },
  {
   "cell_type": "code",
   "execution_count": 6,
   "metadata": {},
   "outputs": [],
   "source": [
    "os.chdir(train_folder)"
   ]
  },
  {
   "cell_type": "code",
   "execution_count": 15,
   "metadata": {},
   "outputs": [
    {
     "name": "stdout",
     "output_type": "stream",
     "text": [
      "['StripesNirvana0003.jpg']\n"
     ]
    }
   ],
   "source": [
    "ic = os_sorted(os.listdir(train_folder))\n",
    "ic = io.ImageCollection(ic)\n",
    "print(ic[2:3])"
   ]
  },
  {
   "cell_type": "code",
   "execution_count": null,
   "metadata": {},
   "outputs": [],
   "source": [
    "files = []\n",
    "\n",
    "for image in enumerate(ic):\n",
    "    files.append(ic)\n",
    "    os.system(f'magick identify -verbose {files} >>{i}ping.txt')"
   ]
  },
  {
   "cell_type": "code",
   "execution_count": null,
   "metadata": {},
   "outputs": [],
   "source": [
    "\n",
    "# with open(\"ping.txt\", \"r\") as ping:\n",
    "#     text = ping.read()"
   ]
  },
  {
   "cell_type": "code",
   "execution_count": null,
   "metadata": {},
   "outputs": [],
   "source": [
    "filename = 'ping.txt'\n",
    "d = {}\n",
    "\n",
    "with open(filename)as f:\n",
    "    for line in f:\n",
    "        line = line.replace(\" \", \"\")\n",
    "        print(line)\n",
    "        (key, val) = line.strip(\"\\n\").split(\":\")\n",
    "        d[str(key)] = val\n",
    "\n",
    "print(d)"
   ]
  },
  {
   "cell_type": "code",
   "execution_count": null,
   "metadata": {},
   "outputs": [],
   "source": [
    "# # creating json file \n",
    "# # the JSON file is named as test1 \n",
    "\n",
    "out_file = open(\"test1.json\", \"w\") \n",
    "\n",
    "json.dump(d, out_file, indent = 1, sort_keys = False) \n",
    "out_file.close() \n",
    "\n",
    "\n",
    "\n",
    "os.getcwd()\n",
    "\n",
    "with open(\"test1.json\", \"r\") as ping:\n",
    "    tt = json.load(ping)\n",
    "\n",
    "tt.keys()\n",
    "\n",
    "# for t in tt:\n",
    "print(tt['Filename']),\n",
    "print(\"min:\", tt['min'][0:1])\n",
    "print(\"max:\", tt['max'][0:3])\n",
    "print('mean:', tt['mean'][0:7])\n",
    "print('median:', tt['median'][0:7])\n",
    "print('standarddeviation:', tt['standarddeviation'][0:7])\n",
    "print('kurtosis:', tt['kurtosis'])\n",
    "print('skewness:', tt['skewness'])\n",
    "print('entropy:', tt['entropy'])\n",
    "print('Chromaticity:', f'\\n', 'redprimary:',  tt['redprimary'],\n",
    "      'greenprimary:', tt['greenprimary'],\n",
    "      'blueprimary:', tt['blueprimary'],\n",
    "      'whitepoint:', tt['whitepoint'] )\n",
    "# print('Convexhull:', tt['Convexhull'])\n",
    "# print('Minimumboundingbox:', tt['Minimumboundingbox'])\n",
    "# print('Convexhull:', tt['Convexhull'])\n",
    "\n",
    "\n",
    "\n",
    "# Criar Data Frame\n",
    "## a partir do documento json - 'merge_file2021.json', criar Data Frame\n",
    "### key value pairs / json: 'Filename','min', 'max', 'mean', 'median', 'standarddeviation', 'kurtosis', 'skewness', 'entropy'\n",
    "\n",
    "df_im_data = []\n",
    "\n",
    "for d in tt:\n",
    "    Filename = tt['Filename']\n",
    "    min_ = tt['min'][0:1]\n",
    "    max_ = tt['max'][0:3]\n",
    "    mean_ = tt['mean'][0:7]\n",
    "    median_ = tt['median'][0:7]\n",
    "    standarddeviation = tt['standarddeviation'][0:7]\n",
    "    kurtosis = tt['kurtosis']\n",
    "    skewness = tt['skewness']\n",
    "    entropy = tt['entropy']\n",
    "        \n",
    "    df_im_data.append((Filename, min_, max_, mean_, median_, standarddeviation, kurtosis, skewness, entropy))\n",
    "        \n",
    "df_im_data = pd.DataFrame(df_im_data, columns=['Filename','min', 'max', 'mean', 'median', 'standarddeviation', 'kurtosis', 'skewness', 'entropy'])\n",
    "\n",
    "df_im_data.to_csv(f\"im_data_test.csv\")\n",
    "\n",
    "df = pd.read_csv(\"im_data_test.csv\")\n",
    "\n",
    "df.head(1)"
   ]
  },
  {
   "cell_type": "code",
   "execution_count": null,
   "metadata": {},
   "outputs": [],
   "source": []
  }
 ],
 "metadata": {
  "kernelspec": {
   "display_name": "Python 3",
   "language": "python",
   "name": "python3"
  },
  "language_info": {
   "codemirror_mode": {
    "name": "ipython",
    "version": 3
   },
   "file_extension": ".py",
   "mimetype": "text/x-python",
   "name": "python",
   "nbconvert_exporter": "python",
   "pygments_lexer": "ipython3",
   "version": "3.8.5"
  }
 },
 "nbformat": 4,
 "nbformat_minor": 4
}
